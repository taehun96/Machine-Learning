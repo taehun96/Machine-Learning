{
 "cells": [
  {
   "cell_type": "markdown",
   "id": "ed93a7bb",
   "metadata": {},
   "source": [
    "# 03. 텐서의 조작"
   ]
  },
  {
   "cell_type": "code",
   "execution_count": 1,
   "id": "28d5120b",
   "metadata": {},
   "outputs": [],
   "source": [
    "import torch"
   ]
  },
  {
   "cell_type": "markdown",
   "id": "369970c4",
   "metadata": {},
   "source": [
    "## 3-1. 인덱싱\n",
    "- numpy와 동일한 방식으로 인덱싱, 슬라이싱 가능"
   ]
  },
  {
   "cell_type": "code",
   "execution_count": null,
   "id": "31eaf96b",
   "metadata": {},
   "outputs": [
    {
     "name": "stdout",
     "output_type": "stream",
     "text": [
      "tensor(5)\n",
      "tensor(7)\n",
      "tensor([1, 2, 3])\n",
      "tensor([3, 6, 9])\n",
      "tensor([1, 5, 9])\n",
      "tensor([6, 7, 8, 9])\n"
     ]
    }
   ],
   "source": [
    "x = torch.tensor([[1,2,3],\n",
    "                    [4,5,6],\n",
    "                    [7,8,9]])\n",
    "print(x[1,1]) # 5\n",
    "print(x[2,0]) # 7\n",
    "print(x[0, :]) # 0번째 행 전체\n",
    "print(x[:,2]) # 2번째 열 전체\n",
    "print(x[[0,1,2],[0,1,2]]) # fancy 인덱싱\n",
    "print(x[x > 5]) # boolean 인덱싱"
   ]
  },
  {
   "cell_type": "code",
   "execution_count": 10,
   "id": "91d12d14",
   "metadata": {},
   "outputs": [
    {
     "name": "stdout",
     "output_type": "stream",
     "text": [
      "tensor([100,  20,  30,  40,  50])\n",
      "tensor([100, 200, 300, 400,  50])\n"
     ]
    }
   ],
   "source": [
    "x = torch.tensor([10,20,30,40,50])\n",
    "\n",
    "x[0] = 100\n",
    "print(x)\n",
    "\n",
    "# 슬라이싱으로 값을 변경할 시 tensor로 값을 할당\n",
    "x[1:4] = torch.tensor([200,300,400])\n",
    "print(x)"
   ]
  }
 ],
 "metadata": {
  "kernelspec": {
   "display_name": "torch_machine_study",
   "language": "python",
   "name": "python3"
  },
  "language_info": {
   "codemirror_mode": {
    "name": "ipython",
    "version": 3
   },
   "file_extension": ".py",
   "mimetype": "text/x-python",
   "name": "python",
   "nbconvert_exporter": "python",
   "pygments_lexer": "ipython3",
   "version": "3.13.7"
  }
 },
 "nbformat": 4,
 "nbformat_minor": 5
}
