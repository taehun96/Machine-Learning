{
 "cells": [
  {
   "cell_type": "markdown",
   "id": "ed93a7bb",
   "metadata": {},
   "source": [
    "# 03. 텐서의 조작"
   ]
  },
  {
   "cell_type": "code",
   "execution_count": 1,
   "id": "28d5120b",
   "metadata": {},
   "outputs": [],
   "source": [
    "import torch"
   ]
  },
  {
   "cell_type": "markdown",
   "id": "369970c4",
   "metadata": {},
   "source": [
    "## 3-1. 인덱싱\n",
    "- numpy와 동일한 방식으로 인덱싱, 슬라이싱 가능"
   ]
  },
  {
   "cell_type": "code",
   "execution_count": null,
   "id": "31eaf96b",
   "metadata": {},
   "outputs": [
    {
     "name": "stdout",
     "output_type": "stream",
     "text": [
      "tensor(5)\n",
      "tensor(7)\n",
      "tensor([1, 2, 3])\n",
      "tensor([3, 6, 9])\n",
      "tensor([1, 5, 9])\n",
      "tensor([6, 7, 8, 9])\n"
     ]
    }
   ],
   "source": [
    "x = torch.tensor([[1,2,3],\n",
    "                    [4,5,6],\n",
    "                    [7,8,9]])\n",
    "print(x[1,1]) # 5\n",
    "print(x[2,0]) # 7\n",
    "print(x[0, :]) # 0번째 행 전체\n",
    "print(x[:,2]) # 2번째 열 전체\n",
    "print(x[[0,1,2],[0,1,2]]) # fancy 인덱싱\n",
    "print(x[x > 5]) # boolean 인덱싱"
   ]
  },
  {
   "cell_type": "code",
   "execution_count": 10,
   "id": "91d12d14",
   "metadata": {},
   "outputs": [
    {
     "name": "stdout",
     "output_type": "stream",
     "text": [
      "tensor([100,  20,  30,  40,  50])\n",
      "tensor([100, 200, 300, 400,  50])\n"
     ]
    }
   ],
   "source": [
    "x = torch.tensor([10,20,30,40,50])\n",
    "\n",
    "x[0] = 100\n",
    "print(x)\n",
    "\n",
    "# 슬라이싱으로 값을 변경할 시 tensor로 값을 할당\n",
    "x[1:4] = torch.tensor([200,300,400])\n",
    "print(x)"
   ]
  },
  {
   "cell_type": "markdown",
   "id": "470c2116",
   "metadata": {},
   "source": [
    "## 3-2. 텐서의 크기, 모양 변경\n",
    "- `torch.view()` : tensor의 데이터를 그대로 두고 모양만 변경"
   ]
  },
  {
   "cell_type": "code",
   "execution_count": 13,
   "id": "be5d9f3f",
   "metadata": {},
   "outputs": [
    {
     "name": "stdout",
     "output_type": "stream",
     "text": [
      "tensor([[ 0.1250, -2.3036, -0.8695,  0.6479, -1.8056],\n",
      "        [-0.4903,  2.3995, -1.7236, -1.1242, -1.4115],\n",
      "        [-1.5180,  1.7276, -0.8179, -0.8827, -0.7447],\n",
      "        [-1.1948,  1.7016, -0.2908,  1.0828,  0.7908]])\n",
      "tensor([ 0.1250, -2.3036, -0.8695,  0.6479, -1.8056, -0.4903,  2.3995, -1.7236,\n",
      "        -1.1242, -1.4115, -1.5180,  1.7276, -0.8179, -0.8827, -0.7447, -1.1948,\n",
      "         1.7016, -0.2908,  1.0828,  0.7908])\n",
      "tensor([[ 0.1250, -2.3036, -0.8695,  0.6479],\n",
      "        [-1.8056, -0.4903,  2.3995, -1.7236],\n",
      "        [-1.1242, -1.4115, -1.5180,  1.7276],\n",
      "        [-0.8179, -0.8827, -0.7447, -1.1948],\n",
      "        [ 1.7016, -0.2908,  1.0828,  0.7908]])\n"
     ]
    }
   ],
   "source": [
    "x = torch.randn(4,5)\n",
    "print(x)\n",
    "y = x.view(20)\n",
    "print(y)\n",
    "z = y.view(5, -1) # -1 → 자동 계산\n",
    "print(z)"
   ]
  },
  {
   "cell_type": "markdown",
   "id": "46e39801",
   "metadata": {},
   "source": [
    "## 3-3. 텐서의 숫자값 얻기\n",
    "- `tensor.item()` \n",
    "    - 스칼라 값 하나만 존재해야 사용 가능\n",
    "    - Tensor → Python 숫자 변환용"
   ]
  },
  {
   "cell_type": "code",
   "execution_count": 16,
   "id": "d2e23f66",
   "metadata": {},
   "outputs": [
    {
     "name": "stdout",
     "output_type": "stream",
     "text": [
      "tensor([0.2598])\n",
      "tensor(0.2598)\n",
      "0.25979453325271606\n"
     ]
    }
   ],
   "source": [
    "x = torch.rand(1)\n",
    "print(x)\n",
    "print(x[0])\n",
    "print(x.item())"
   ]
  },
  {
   "cell_type": "markdown",
   "id": "ae5e1855",
   "metadata": {},
   "source": [
    "## 3-4. 차원 축소 및 증가"
   ]
  },
  {
   "cell_type": "markdown",
   "id": "b4f8213d",
   "metadata": {},
   "source": [
    "### 차원 축소(제거)\n",
    "- `torch.squeeze()` : 크기가 1인 차원을 제거함"
   ]
  },
  {
   "cell_type": "code",
   "execution_count": 17,
   "id": "5f61146e",
   "metadata": {},
   "outputs": [
    {
     "name": "stdout",
     "output_type": "stream",
     "text": [
      "tensor([[[0.7877, 0.8053, 0.8836]],\n",
      "\n",
      "        [[0.2520, 0.2190, 0.0957]],\n",
      "\n",
      "        [[0.1294, 0.4941, 0.4299]]])\n",
      "torch.Size([3, 1, 3])\n",
      "tensor([[0.7877, 0.8053, 0.8836],\n",
      "        [0.2520, 0.2190, 0.0957],\n",
      "        [0.1294, 0.4941, 0.4299]])\n",
      "torch.Size([3, 3])\n"
     ]
    }
   ],
   "source": [
    "t = torch.rand(3, 1, 3)\n",
    "print(t)\n",
    "print(t.shape)\n",
    "\n",
    "ts = torch.squeeze(t)\n",
    "print(ts)\n",
    "print(ts.shape)"
   ]
  },
  {
   "cell_type": "markdown",
   "id": "cd47306e",
   "metadata": {},
   "source": [
    "### 차원 증가(생성)\n",
    "- `torch.unsqueeze()` : dim 설정에 따라 차원을 증가시킴\n",
    "    - dim은 하나의 차원이 추가되는 인덱스"
   ]
  },
  {
   "cell_type": "code",
   "execution_count": 21,
   "id": "b91a6c6f",
   "metadata": {},
   "outputs": [
    {
     "name": "stdout",
     "output_type": "stream",
     "text": [
      "torch.Size([3, 3, 3])\n",
      "torch.Size([1, 3, 3, 3])\n",
      "torch.Size([3, 1, 3, 3])\n",
      "torch.Size([3, 3, 1, 3])\n",
      "torch.Size([3, 3, 3, 1])\n"
     ]
    }
   ],
   "source": [
    "t = torch.rand(3,3,3)\n",
    "# print(t)\n",
    "print(t.shape)\n",
    "\n",
    "# 0 가장 상위 차원 → 3 가장 하위 차원\n",
    "ts1 = torch.unsqueeze(t, dim=0)\n",
    "# print(ts1)\n",
    "print(ts1.shape)\n",
    "\n",
    "ts2 = torch.unsqueeze(t, dim=1)\n",
    "# print(ts2)\n",
    "print(ts2.shape)\n",
    "\n",
    "ts3 = torch.unsqueeze(t, dim=2)\n",
    "# print(ts3)\n",
    "print(ts3.shape)\n",
    "\n",
    "ts4 = torch.unsqueeze(t, dim=3)\n",
    "# print(ts4)\n",
    "print(ts4.shape)"
   ]
  },
  {
   "cell_type": "markdown",
   "id": "84c372af",
   "metadata": {},
   "source": [
    "## 3-5. 텐서간 결합"
   ]
  },
  {
   "cell_type": "markdown",
   "id": "5646e10c",
   "metadata": {},
   "source": [
    "- `torch.stack()` : 동일한 형식의 텐서를 새롭게 그룹화 함 → 새로운 차원 생성됨"
   ]
  },
  {
   "cell_type": "code",
   "execution_count": 23,
   "id": "4d842454",
   "metadata": {},
   "outputs": [
    {
     "name": "stdout",
     "output_type": "stream",
     "text": [
      "tensor([[1, 4],\n",
      "        [2, 5],\n",
      "        [3, 6]])\n",
      "tensor([[[1, 2],\n",
      "         [3, 4]],\n",
      "\n",
      "        [[5, 6],\n",
      "         [7, 8]]])\n"
     ]
    }
   ],
   "source": [
    "x = torch.tensor([1,4])\n",
    "y = torch.tensor([2,5])\n",
    "z = torch.tensor([3,6])\n",
    "\n",
    "result = torch.stack([x,y,z])\n",
    "print(result)\n",
    "\n",
    "a = torch.tensor([[1,2],[3,4]])\n",
    "b = torch.tensor([[5,6],[7,8]])\n",
    "result2 = torch.stack([a,b])\n",
    "print(result2)"
   ]
  },
  {
   "cell_type": "markdown",
   "id": "b8bd3296",
   "metadata": {},
   "source": [
    "- `torch.cat()` : 데이터를 하나의 텐서로 병합 → 새로운 차원 생성X\n",
    "- dim은 행렬이 맞아야 하나로 합칠 수 있음"
   ]
  },
  {
   "cell_type": "code",
   "execution_count": 25,
   "id": "e407fa89",
   "metadata": {},
   "outputs": [
    {
     "name": "stdout",
     "output_type": "stream",
     "text": [
      "tensor([[ 1,  2,  7,  8],\n",
      "        [ 3,  4,  9, 10]])\n"
     ]
    }
   ],
   "source": [
    "a = torch.tensor([[1,2],[3,4]])\n",
    "b = torch.tensor([[7,8],[9,10]])\n",
    "result = torch.cat((a,b), dim=1)\n",
    "print(result)"
   ]
  },
  {
   "cell_type": "markdown",
   "id": "723f5162",
   "metadata": {},
   "source": [
    "## 3-6. 텐서 나누기"
   ]
  },
  {
   "cell_type": "markdown",
   "id": "6d1634f3",
   "metadata": {},
   "source": [
    "- `torch.chunk` : 텐서를 지정한 개수에 따라 나눔\n",
    "    - 나누어 떨어지지 않는 경우 → 마지막 조각의 크기가 달라짐\n",
    "    - dim=0이 기본값"
   ]
  },
  {
   "cell_type": "code",
   "execution_count": 30,
   "id": "1c384fa4",
   "metadata": {},
   "outputs": [
    {
     "name": "stdout",
     "output_type": "stream",
     "text": [
      "tensor([[0.9869, 0.3160, 0.8602, 0.7713, 0.9008, 0.4960, 0.1267],\n",
      "        [0.4956, 0.0652, 0.6160, 0.6888, 0.9972, 0.1573, 0.0482],\n",
      "        [0.0488, 0.0377, 0.0225, 0.3123, 0.1423, 0.7112, 0.5142]])\n",
      "tensor([[0.9869, 0.3160, 0.8602],\n",
      "        [0.4956, 0.0652, 0.6160],\n",
      "        [0.0488, 0.0377, 0.0225]])\n",
      "tensor([[0.7713, 0.9008, 0.4960],\n",
      "        [0.6888, 0.9972, 0.1573],\n",
      "        [0.3123, 0.1423, 0.7112]])\n",
      "tensor([[0.1267],\n",
      "        [0.0482],\n",
      "        [0.5142]])\n"
     ]
    }
   ],
   "source": [
    "t = torch.rand(3,7)\n",
    "print(t)\n",
    "\n",
    "t1, t2, t3 = torch.chunk(t, 3, dim=1)\n",
    "print(t1)\n",
    "print(t2)\n",
    "print(t3)"
   ]
  },
  {
   "cell_type": "markdown",
   "id": "abbc579e",
   "metadata": {},
   "source": [
    "- `torch.split()` : 지정한 사이즈에 따라 나눔\n",
    "    - 나누어 떨어지지 않는 경우 → 마지막 조각의 크기가 달라짐"
   ]
  },
  {
   "cell_type": "code",
   "execution_count": 4,
   "id": "8a5786f2",
   "metadata": {},
   "outputs": [
    {
     "name": "stdout",
     "output_type": "stream",
     "text": [
      "tensor([[0.7295, 0.0524, 0.4063, 0.2344, 0.8328, 0.3856, 0.8509],\n",
      "        [0.4597, 0.2995, 0.3623, 0.5772, 0.2994, 0.0413, 0.8787],\n",
      "        [0.6753, 0.4883, 0.1115, 0.4166, 0.9363, 0.5861, 0.6973]])\n",
      "tensor([[0.7295, 0.0524, 0.4063],\n",
      "        [0.4597, 0.2995, 0.3623],\n",
      "        [0.6753, 0.4883, 0.1115]])\n",
      "tensor([[0.2344, 0.8328, 0.3856],\n",
      "        [0.5772, 0.2994, 0.0413],\n",
      "        [0.4166, 0.9363, 0.5861]])\n",
      "tensor([[0.8509],\n",
      "        [0.8787],\n",
      "        [0.6973]])\n"
     ]
    }
   ],
   "source": [
    "t = torch.rand(3,7)\n",
    "print(t)\n",
    "\n",
    "t1, t2, t3 = torch.split(t, 3, dim=1)\n",
    "print(t1)\n",
    "print(t2)\n",
    "print(t3)"
   ]
  },
  {
   "cell_type": "code",
   "execution_count": 3,
   "id": "6537f5e6",
   "metadata": {},
   "outputs": [
    {
     "name": "stdout",
     "output_type": "stream",
     "text": [
      "tensor([[0.6815, 0.3317, 0.6326, 0.1085, 0.0389, 0.6436, 0.5825],\n",
      "        [0.9454, 0.9317, 0.4317, 0.6690, 0.3488, 0.5894, 0.7432],\n",
      "        [0.3178, 0.5676, 0.4294, 0.4648, 0.6920, 0.4179, 0.0093]])\n",
      "tensor([[0.6815, 0.3317],\n",
      "        [0.9454, 0.9317],\n",
      "        [0.3178, 0.5676]])\n",
      "tensor([[0.6326, 0.1085, 0.0389],\n",
      "        [0.4317, 0.6690, 0.3488],\n",
      "        [0.4294, 0.4648, 0.6920]])\n",
      "tensor([[0.6436, 0.5825],\n",
      "        [0.5894, 0.7432],\n",
      "        [0.4179, 0.0093]])\n"
     ]
    }
   ],
   "source": [
    "t = torch.rand(3,7)\n",
    "print(t)\n",
    "\n",
    "# 쪼갤 열의 개수 지정\n",
    "t1, t2, t3 = torch.split(t, [2,3,2], dim=1)\n",
    "print(t1)\n",
    "print(t2)\n",
    "print(t3)"
   ]
  }
 ],
 "metadata": {
  "kernelspec": {
   "display_name": "torch_machine_study",
   "language": "python",
   "name": "python3"
  },
  "language_info": {
   "codemirror_mode": {
    "name": "ipython",
    "version": 3
   },
   "file_extension": ".py",
   "mimetype": "text/x-python",
   "name": "python",
   "nbconvert_exporter": "python",
   "pygments_lexer": "ipython3",
   "version": "3.13.7"
  }
 },
 "nbformat": 4,
 "nbformat_minor": 5
}
