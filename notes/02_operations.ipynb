{
 "cells": [
  {
   "cell_type": "markdown",
   "id": "38480ddf",
   "metadata": {},
   "source": [
    "# 02. 텐서의 연산\n",
    "- 기본적으로 텐서는 CPU에 생성\n",
    "    - GPU로 텐서를 명시적으로 이동 가능"
   ]
  },
  {
   "cell_type": "code",
   "execution_count": 1,
   "id": "2a76e601",
   "metadata": {},
   "outputs": [],
   "source": [
    "import torch"
   ]
  },
  {
   "cell_type": "markdown",
   "id": "c271380b",
   "metadata": {},
   "source": [
    "## 2-1. 산술연산"
   ]
  },
  {
   "cell_type": "code",
   "execution_count": null,
   "id": "844b838e",
   "metadata": {},
   "outputs": [
    {
     "name": "stdout",
     "output_type": "stream",
     "text": [
      "tensor([[1., 1.],\n",
      "        [1., 1.]])\n",
      "tensor([[2., 2.],\n",
      "        [2., 2.]])\n",
      "tensor([[5., 5.],\n",
      "        [5., 5.]])\n"
     ]
    }
   ],
   "source": [
    "x = torch.ones(2,2)\n",
    "print(x)\n",
    "x = x * 2\n",
    "print(x)\n",
    "x = x + 3\n",
    "print(x)"
   ]
  },
  {
   "cell_type": "code",
   "execution_count": 5,
   "id": "133de8d8",
   "metadata": {},
   "outputs": [
    {
     "name": "stdout",
     "output_type": "stream",
     "text": [
      "tensor([[5, 5],\n",
      "        [5, 5]])\n",
      "tensor([[5, 5],\n",
      "        [5, 5]])\n",
      "tensor([[-3, -1],\n",
      "        [ 1,  3]])\n",
      "tensor([[-3, -1],\n",
      "        [ 1,  3]])\n",
      "tensor([[4, 6],\n",
      "        [6, 4]])\n",
      "tensor([[4, 6],\n",
      "        [6, 4]])\n",
      "tensor([[0.2500, 0.6667],\n",
      "        [1.5000, 4.0000]])\n",
      "tensor([[0.2500, 0.6667],\n",
      "        [1.5000, 4.0000]])\n"
     ]
    }
   ],
   "source": [
    "# 연산의 결과가 원본을 변경하지는 않음\n",
    "# 자리가 같은 것끼리 더해줌\n",
    "# 기본적으로 구조가 같아야함\n",
    "x = torch.tensor([[1,2],[3,4]])\n",
    "y = torch.tensor([[4,3],[2,1]])\n",
    "\n",
    "# 더하기\n",
    "add = torch.add(x,y)\n",
    "print(add)\n",
    "print(x+y)\n",
    "\n",
    "# 빼기\n",
    "sub = torch.sub(x,y)\n",
    "print(sub)\n",
    "print(x-y)\n",
    "\n",
    "# 곱하기\n",
    "mul = torch.mul(x,y)\n",
    "print(mul)\n",
    "print(x*y)\n",
    "\n",
    "# 나누기\n",
    "div = torch.div(x,y)\n",
    "print(div)\n",
    "print(x/y)\n"
   ]
  },
  {
   "cell_type": "markdown",
   "id": "3a8ba053",
   "metadata": {},
   "source": [
    "## 2-2. 바꿔치기 연산(in-place)\n",
    "- 연산자의 뒤에 _를 추가한 형태로 사용\n",
    "- 기존 변수에 값을 덮어 씌움\n",
    "- 기존 Tensor의 메모리를 새로 만들지 않고, 그 자리에서 값을 바꾸는 연산"
   ]
  },
  {
   "cell_type": "code",
   "execution_count": null,
   "id": "b4434d2a",
   "metadata": {},
   "outputs": [
    {
     "name": "stdout",
     "output_type": "stream",
     "text": [
      "tensor([[ 8,  7],\n",
      "        [11, 10]])\n",
      "tensor([[0, 0],\n",
      "        [0, 0]])\n"
     ]
    }
   ],
   "source": [
    "x = torch.tensor([[5,6],[7,8]])\n",
    "y = torch.tensor([[3,1],[4,2]])\n",
    "\n",
    "# in-place 연산\n",
    "x.add_(y)\n",
    "print(x)\n",
    "\n",
    "# fill : Tensor의 모든 원소를 지정한 값으로 채움\n",
    "x.fill_(0)\n",
    "print(x)"
   ]
  },
  {
   "cell_type": "markdown",
   "id": "a60de256",
   "metadata": {},
   "source": [
    "## 2-3. 각종 연산"
   ]
  },
  {
   "cell_type": "code",
   "execution_count": null,
   "id": "43ab2cf9",
   "metadata": {},
   "outputs": [
    {
     "name": "stdout",
     "output_type": "stream",
     "text": [
      "tensor([[ 1.1000,  2.2000,  3.3000],\n",
      "        [ 4.0000,  5.0000,  6.0000],\n",
      "        [-1.0000, -3.1400, -6.0000]])\n",
      "절대값 tensor([[1.1000, 2.2000, 3.3000],\n",
      "        [4.0000, 5.0000, 6.0000],\n",
      "        [1.0000, 3.1400, 6.0000]])\n",
      "올림 tensor([[ 2.,  3.,  4.],\n",
      "        [ 4.,  5.,  6.],\n",
      "        [-1., -3., -6.]])\n",
      "반올림 tensor([[ 1.,  2.,  3.],\n",
      "        [ 4.,  5.,  6.],\n",
      "        [-1., -3., -6.]])\n",
      "내림 tensor([[ 1.,  2.,  3.],\n",
      "        [ 4.,  5.,  6.],\n",
      "        [-1., -4., -6.]])\n",
      "모든 원소의 합 tensor(11.4600)\n",
      "모든 원소의 곱 tensor(-18054.7500)\n",
      "클램프 tensor([[ 1.1000,  2.0000,  2.0000],\n",
      "        [ 2.0000,  2.0000,  2.0000],\n",
      "        [-1.0000, -2.0000, -2.0000]])\n",
      "---------------------------------------\n",
      "최소값 tensor(-6.)\n",
      "최대값 tensor(6.)\n",
      "최소값의 인덱스 tensor(8)\n",
      "최대값의 인덱스 tensor(5)\n",
      "평균값 tensor(1.2733)\n",
      "표준편차 tensor(3.9719)\n",
      "중복제거 tensor([1, 2, 3, 4, 5])\n"
     ]
    }
   ],
   "source": [
    "x = torch.tensor([[1.1,2.2,3.3],[4,5,6],[-1,-3.14,-6]])\n",
    "print(x)\n",
    "\n",
    "# 수학연산\n",
    "print(\"절대값\", torch.abs(x))\n",
    "print(\"올림\", torch.ceil(x))\n",
    "print(\"반올림\", torch.round(x))\n",
    "print(\"내림\", torch.floor(x))\n",
    "print(\"모든 원소의 합\", torch.sum(x))\n",
    "print(\"모든 원소의 곱\", torch.prod(x))\n",
    "print(\"클램프\", torch.clamp(x, -2, 2)) # 값을 특정 범위 안으로 제한하는 연산\n",
    "\n",
    "print(\"---------------------------------------\")\n",
    "# 통계관련 연산\n",
    "print(\"최소값\", torch.min(x))\n",
    "print(\"최대값\", torch.max(x))\n",
    "print(\"최소값의 인덱스\", torch.argmin(x))\n",
    "print(\"최대값의 인덱스\", torch.argmax(x))\n",
    "print(\"평균값\", torch.mean(x))\n",
    "print(\"표준편차\", torch.std(x))\n",
    "print(\"중복제거\", torch.unique(torch.tensor([1,2,3,5,4,2,1,1,2,3,2,1,2,1,4])))"
   ]
  },
  {
   "cell_type": "code",
   "execution_count": 27,
   "id": "2c2ebf45",
   "metadata": {},
   "outputs": [
    {
     "name": "stdout",
     "output_type": "stream",
     "text": [
      "열의 합 tensor([4.1000, 4.0600, 3.3000])\n",
      "행의 합 tensor([  6.6000,  15.0000, -10.1400])\n",
      "열의 최대값의 인덱스 torch.return_types.max(\n",
      "values=tensor([4., 5., 6.]),\n",
      "indices=tensor([1, 1, 1]))\n",
      "행의 최소값의 인덱스 torch.return_types.min(\n",
      "values=tensor([ 1.1000,  4.0000, -6.0000]),\n",
      "indices=tensor([0, 0, 2]))\n"
     ]
    }
   ],
   "source": [
    "# 차원 지정\n",
    "x = torch.tensor([[1.1, 2.2, 3.3],\n",
    "                    [4, 5, 6],\n",
    "                    [-1, -3.14, -6]])\n",
    "\n",
    "print(\"열의 합\", torch.sum(x, dim=0))\n",
    "print(\"행의 합\", torch.sum(x, dim=1))\n",
    "print(\"열의 최대값의 인덱스\", torch.max(x, dim=0))\n",
    "print(\"행의 최소값의 인덱스\", torch.min(x, dim=1))"
   ]
  },
  {
   "cell_type": "markdown",
   "id": "17fb219a",
   "metadata": {},
   "source": [
    "## 2-4. 내적(dot product) / 행렬의 곱셈"
   ]
  },
  {
   "cell_type": "code",
   "execution_count": 28,
   "id": "d37f313a",
   "metadata": {},
   "outputs": [
    {
     "name": "stdout",
     "output_type": "stream",
     "text": [
      "tensor([[19, 22],\n",
      "        [43, 50]])\n"
     ]
    }
   ],
   "source": [
    "x = torch.tensor([[1,2],[3,4]])\n",
    "y = torch.tensor([[5,6],[7,8]])\n",
    "\n",
    "print(torch.matmul(x,y))"
   ]
  }
 ],
 "metadata": {
  "kernelspec": {
   "display_name": "torch_machine_study",
   "language": "python",
   "name": "python3"
  },
  "language_info": {
   "codemirror_mode": {
    "name": "ipython",
    "version": 3
   },
   "file_extension": ".py",
   "mimetype": "text/x-python",
   "name": "python",
   "nbconvert_exporter": "python",
   "pygments_lexer": "ipython3",
   "version": "3.13.7"
  }
 },
 "nbformat": 4,
 "nbformat_minor": 5
}
