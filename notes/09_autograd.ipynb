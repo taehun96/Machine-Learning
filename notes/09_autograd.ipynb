{
 "cells": [
  {
   "cell_type": "markdown",
   "id": "5bf46cf6",
   "metadata": {},
   "source": [
    "# 09. Autograd(자동 미분)\n",
    "- Pytorch는 Tensor의 모든 연산에 대해 자동 미분이 가능함\n",
    "- 자동 미분은 역전파에 활용됨\n",
    "- `requires_grad` : Tensor의 속성으로, True로 설정해야 자동미분이 가능\n",
    "- `tnesor.backward()` : 미분 실행\n",
    "- `tensro.grad` : 미분값을 확인할 수 있는 속성"
   ]
  },
  {
   "cell_type": "code",
   "execution_count": 1,
   "id": "f9e876f0",
   "metadata": {},
   "outputs": [],
   "source": [
    "import torch"
   ]
  },
  {
   "cell_type": "code",
   "execution_count": null,
   "id": "c29f7102",
   "metadata": {},
   "outputs": [
    {
     "name": "stdout",
     "output_type": "stream",
     "text": [
      "미분전 : None\n",
      "tensor([3.], grad_fn=<MulBackward0>)\n",
      "z 미분후 : tensor([6.])\n",
      "None\n"
     ]
    },
    {
     "name": "stderr",
     "output_type": "stream",
     "text": [
      "C:\\Users\\jk316\\AppData\\Local\\Temp\\ipykernel_27548\\3162218631.py:14: UserWarning: The .grad attribute of a Tensor that is not a leaf Tensor is being accessed. Its .grad attribute won't be populated during autograd.backward(). If you indeed want the .grad field to be populated for a non-leaf Tensor, use .retain_grad() on the non-leaf Tensor. If you access the non-leaf Tensor by mistake, make sure you access the leaf Tensor instead. See github.com/pytorch/pytorch/pull/30531 for more informations. (Triggered internally at C:\\actions-runner\\_work\\pytorch\\pytorch\\pytorch\\build\\aten\\src\\ATen/core/TensorBody.h:494.)\n",
      "  print(y.grad)\n"
     ]
    }
   ],
   "source": [
    "x = torch.tensor([1.], requires_grad=True)\n",
    "y = x ** 2\n",
    "# print(y)\n",
    "print(\"미분전 :\", x.grad) # `PowBackward0`는 제곱 연산의 미분을 계산해줄 backward 함수\n",
    "\n",
    "# y.backward() # 미분 실행\n",
    "# print(\"미분후 :\", x.grad)\n",
    "\n",
    "z = 3 * y\n",
    "print(z) # `MulBackward0`는 곱셈 연산의 미분을 계산해주는 backward 함수\n",
    "\n",
    "z.backward() # 미분 실행\n",
    "print(\"z 미분후 :\", x.grad)"
   ]
  },
  {
   "cell_type": "code",
   "execution_count": null,
   "id": "c7781178",
   "metadata": {},
   "outputs": [
    {
     "name": "stdout",
     "output_type": "stream",
     "text": [
      "tensor([8.])\n",
      "False\n",
      "8.0\n"
     ]
    }
   ],
   "source": [
    "x = torch.tensor([1.], requires_grad=True)\n",
    "a = x ** 2\n",
    "b = a + 1\n",
    "c = b ** 2\n",
    "c.backward()\n",
    "print(x.grad)\n",
    "result = x.grad.detach() # detach : 연산과 결과값을 분리, 연산 그래프에서 분리해서 gradient 계산 안 하게 하는 함수\n",
    "print(result.requires_grad)\n",
    "print(result.item())"
   ]
  },
  {
   "cell_type": "code",
   "execution_count": 18,
   "id": "7d291a69",
   "metadata": {},
   "outputs": [
    {
     "name": "stdout",
     "output_type": "stream",
     "text": [
      "tensor([11.], grad_fn=<AddBackward0>)\n",
      "tensor([4.])\n",
      "tensor([6.])\n"
     ]
    }
   ],
   "source": [
    "# 다변수 함수 미분\n",
    "x = torch.tensor([1.], requires_grad=True)\n",
    "y = torch.tensor([3.], requires_grad=True)\n",
    "z = 2*(x**2) + y**2\n",
    "print(z)\n",
    "z.backward()\n",
    "print(x.grad)\n",
    "print(y.grad)"
   ]
  },
  {
   "cell_type": "code",
   "execution_count": null,
   "id": "f53c7b13",
   "metadata": {},
   "outputs": [
    {
     "name": "stdout",
     "output_type": "stream",
     "text": [
      "True\n",
      "tensor([1.])\n",
      "True\n"
     ]
    }
   ],
   "source": [
    "# with torch.no_grad():\n",
    "# grad_fn을 계산하고 싶지 않을 때 사용\n",
    "# ➡️ 모델 훈련 후 test data를가지고 평가할 때 사용\n",
    "\n",
    "x = torch.tensor([1.], requires_grad=True)\n",
    "with torch.no_grad():\n",
    "    y = x**2\n",
    "    print(x.requires_grad)\n",
    "    print(y)\n",
    "    \n",
    "print(x.requires_grad)\n",
    "# y = x**2\n",
    "y.backward() # with 구문 안쪽의 y로 미분 시도시 에러, with문 안에는 미분 준비 안되어 있음"
   ]
  }
 ],
 "metadata": {
  "kernelspec": {
   "display_name": "torch_machine_study",
   "language": "python",
   "name": "python3"
  },
  "language_info": {
   "codemirror_mode": {
    "name": "ipython",
    "version": 3
   },
   "file_extension": ".py",
   "mimetype": "text/x-python",
   "name": "python",
   "nbconvert_exporter": "python",
   "pygments_lexer": "ipython3",
   "version": "3.13.7"
  }
 },
 "nbformat": 4,
 "nbformat_minor": 5
}
