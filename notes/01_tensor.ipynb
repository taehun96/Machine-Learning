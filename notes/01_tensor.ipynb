{
 "cells": [
  {
   "cell_type": "markdown",
   "id": "8608d533",
   "metadata": {},
   "source": [
    "# PyTorch\n",
    "- GPU를 이용한 동적 신경망 구축이 가능한 딥러닝 프레임 워크"
   ]
  },
  {
   "cell_type": "markdown",
   "id": "4c4c3938",
   "metadata": {},
   "source": [
    "## PyTorch의 구성요소\n",
    "- `torch` : 메인 네임스페이스, 텐서 등의 다야한 함수가 포함\n",
    "- `torch.autograd` : 자동 미분 기능을 제공하는 라이브러리\n",
    "- `torch.nn` : 신경망 구축을 위한 데이터 구조, 레이어 등을 제공하는 라이브러리\n",
    "- `torch.multiprocessing` : 병렬처리 기능을 제공하는 라이브러리\n",
    "- `torch.optim` : SGD(Stochastic Gradient Descent, 확률적 경사 하강법)등 파라미터 최적화 알고리즘 제공\n",
    "- `torch.utils` : 데이터 조작 등 유틸리티 기능 제공"
   ]
  },
  {
   "cell_type": "markdown",
   "id": "75f2e02c",
   "metadata": {},
   "source": [
    "# 01. 텐서(Tensor)\n",
    "- 방향성과 크기를 동시에 표현하는 다차원 배열"
   ]
  },
  {
   "cell_type": "code",
   "execution_count": 8,
   "id": "3736a4d8",
   "metadata": {},
   "outputs": [
    {
     "data": {
      "text/plain": [
       "'2.8.0+cu126'"
      ]
     },
     "execution_count": 8,
     "metadata": {},
     "output_type": "execute_result"
    }
   ],
   "source": [
    "import torch\n",
    "import numpy as np\n",
    "\n",
    "torch.__version__"
   ]
  },
  {
   "cell_type": "markdown",
   "id": "27c7dede",
   "metadata": {},
   "source": [
    "## 1-1. 텐서의 초기화\n",
    "- 초기화 : 텐서를 생성하고 특정 값을 (최초로) 채우는 것"
   ]
  },
  {
   "cell_type": "markdown",
   "id": "a3288d6f",
   "metadata": {},
   "source": [
    "### 초기화 되지 않는 텐서"
   ]
  },
  {
   "cell_type": "code",
   "execution_count": 2,
   "id": "dc9ca8df",
   "metadata": {},
   "outputs": [
    {
     "name": "stdout",
     "output_type": "stream",
     "text": [
      "tensor([[0., 0.],\n",
      "        [0., 0.],\n",
      "        [0., 0.],\n",
      "        [0., 0.]])\n"
     ]
    }
   ],
   "source": [
    "x = torch.empty(4, 2)\n",
    "print(x)"
   ]
  },
  {
   "cell_type": "markdown",
   "id": "bcc61b43",
   "metadata": {},
   "source": [
    "### 무작위로 초기화된 텐서\n",
    "- `rand` : 0과 1사이의 값으로 랜덤하게 초기화된 텐서\n",
    "- `randn` : 표준정규분포를 따르는 랜덤한 값으로 초기화된 텐서 생성"
   ]
  },
  {
   "cell_type": "code",
   "execution_count": 3,
   "id": "b6fa8fe9",
   "metadata": {},
   "outputs": [
    {
     "name": "stdout",
     "output_type": "stream",
     "text": [
      "tensor([[0.2308, 0.7434],\n",
      "        [0.9351, 0.5967],\n",
      "        [0.0683, 0.0688],\n",
      "        [0.5765, 0.0822]])\n",
      "tensor([[ 0.1371,  0.3554,  0.9690],\n",
      "        [-1.0150,  0.8388,  1.9887]])\n"
     ]
    }
   ],
   "source": [
    "x = torch.rand(4, 2)\n",
    "y = torch.randn(2, 3)\n",
    "\n",
    "print(x)\n",
    "print(y)"
   ]
  },
  {
   "cell_type": "markdown",
   "id": "25da7dae",
   "metadata": {},
   "source": [
    "### 0으로 채워진 텐서"
   ]
  },
  {
   "cell_type": "code",
   "execution_count": 4,
   "id": "ca7815f6",
   "metadata": {},
   "outputs": [
    {
     "name": "stdout",
     "output_type": "stream",
     "text": [
      "tensor([[0, 0],\n",
      "        [0, 0],\n",
      "        [0, 0],\n",
      "        [0, 0]])\n"
     ]
    }
   ],
   "source": [
    "x = torch.zeros(4, 2, dtype=torch.long)\n",
    "print(x)"
   ]
  },
  {
   "cell_type": "markdown",
   "id": "97db8381",
   "metadata": {},
   "source": [
    "### 1로 채워진 텐서"
   ]
  },
  {
   "cell_type": "code",
   "execution_count": 6,
   "id": "556df696",
   "metadata": {},
   "outputs": [
    {
     "name": "stdout",
     "output_type": "stream",
     "text": [
      "tensor([[1., 1., 1., 1.],\n",
      "        [1., 1., 1., 1.]], dtype=torch.float64)\n",
      "tensor([[1., 1.],\n",
      "        [1., 1.],\n",
      "        [1., 1.]], dtype=torch.float64)\n"
     ]
    }
   ],
   "source": [
    "x = torch.ones(2, 4, dtype=torch.double)\n",
    "print(x)\n",
    "\n",
    "# 기존 텐서의 속성(데이터 타입, 장치)을 물려받음\n",
    "y = x.new_ones(3, 2)\n",
    "print(y)"
   ]
  },
  {
   "cell_type": "markdown",
   "id": "f2df9ee0",
   "metadata": {},
   "source": [
    "### 사용자가 입력한 값으로 텐서 초기화"
   ]
  },
  {
   "cell_type": "code",
   "execution_count": 7,
   "id": "1420e89d",
   "metadata": {},
   "outputs": [
    {
     "name": "stdout",
     "output_type": "stream",
     "text": [
      "tensor([1.0000, 2.5000])\n"
     ]
    }
   ],
   "source": [
    "x = torch.tensor([1, 2.5])\n",
    "print(x)"
   ]
  },
  {
   "cell_type": "markdown",
   "id": "4d6eabbe",
   "metadata": {},
   "source": [
    "### numpy에서 불러오기"
   ]
  },
  {
   "cell_type": "code",
   "execution_count": 9,
   "id": "73c1b09e",
   "metadata": {},
   "outputs": [
    {
     "name": "stdout",
     "output_type": "stream",
     "text": [
      "tensor([1, 2, 3, 4])\n"
     ]
    }
   ],
   "source": [
    "data = [1,2,3,4]\n",
    "np_array = np.array(data)\n",
    "x = torch.from_numpy(np_array)\n",
    "print(x)"
   ]
  },
  {
   "cell_type": "markdown",
   "id": "89b126a2",
   "metadata": {},
   "source": [
    "### _like 메서드\n",
    "- 기존 텐서의 속성을 복사하면서 값만 다른 텐서를 만드는 메서드"
   ]
  },
  {
   "cell_type": "code",
   "execution_count": 11,
   "id": "08f308de",
   "metadata": {},
   "outputs": [
    {
     "name": "stdout",
     "output_type": "stream",
     "text": [
      "tensor([[0., 0.],\n",
      "        [0., 0.]], dtype=torch.float64)\n"
     ]
    }
   ],
   "source": [
    "x = torch.tensor([[1,2],[3,4]], dtype=torch.float64)\n",
    "y = torch.zeros_like(x)\n",
    "\n",
    "print(y)"
   ]
  },
  {
   "cell_type": "markdown",
   "id": "5d42f59c",
   "metadata": {},
   "source": [
    "## 1-2. 텐서의 속성"
   ]
  },
  {
   "cell_type": "code",
   "execution_count": 15,
   "id": "9685b1c6",
   "metadata": {},
   "outputs": [
    {
     "name": "stdout",
     "output_type": "stream",
     "text": [
      "torch.Size([3, 4])\n",
      "torch.Size([3, 4])\n",
      "torch.float32\n",
      "cpu\n"
     ]
    }
   ],
   "source": [
    "t = torch.rand(3,4)\n",
    "print(t.size()) # 모양\n",
    "print(t.shape) # 모양\n",
    "print(t.dtype) # 자료형\n",
    "print(t.device) # 장치"
   ]
  },
  {
   "cell_type": "markdown",
   "id": "8747911a",
   "metadata": {},
   "source": [
    "## 1-3. 데이터 타입"
   ]
  },
  {
   "cell_type": "markdown",
   "id": "05d5563f",
   "metadata": {},
   "source": [
    "### 특정 데이터 타입의 텐서 생성"
   ]
  },
  {
   "cell_type": "code",
   "execution_count": null,
   "id": "d454f819",
   "metadata": {},
   "outputs": [
    {
     "name": "stdout",
     "output_type": "stream",
     "text": [
      "torch.float32\n",
      "torch.float32\n"
     ]
    }
   ],
   "source": [
    "x = torch.FloatTensor([1,2,3])\n",
    "print(x.dtype)\n",
    "\n",
    "y = torch.tensor([1,2,3], dtype=torch.float32)\n",
    "print(y.dtype)"
   ]
  },
  {
   "cell_type": "markdown",
   "id": "78853609",
   "metadata": {},
   "source": [
    "### 타입 캐스팅(형 변환)"
   ]
  },
  {
   "cell_type": "code",
   "execution_count": 18,
   "id": "3a5ca195",
   "metadata": {},
   "outputs": [
    {
     "name": "stdout",
     "output_type": "stream",
     "text": [
      "tensor([1.1000, 2.2000, 3.3000])\n",
      "tensor([1, 2, 3], dtype=torch.int16)\n",
      "tensor([1, 2, 3], dtype=torch.int32)\n",
      "tensor([1, 2, 3])\n",
      "tensor([1, 2, 3], dtype=torch.int32)\n",
      "tensor([1., 2., 3.])\n",
      "tensor([1., 2., 3.], dtype=torch.float16)\n",
      "tensor([1., 2., 3.], dtype=torch.float64)\n"
     ]
    }
   ],
   "source": [
    "ft = torch.FloatTensor([1.1, 2.2, 3.3])\n",
    "print(ft)\n",
    "print(ft.short())\n",
    "print(ft.int())\n",
    "print(ft.long())\n",
    "\n",
    "it = torch.IntTensor([1,2,3])\n",
    "print(it)\n",
    "print(it.float())\n",
    "print(it.half())\n",
    "print(it.double())"
   ]
  },
  {
   "cell_type": "markdown",
   "id": "8d2ef6ac",
   "metadata": {},
   "source": [
    "### CUDA Tensor"
   ]
  },
  {
   "cell_type": "code",
   "execution_count": 20,
   "id": "2a4d49d5",
   "metadata": {},
   "outputs": [
    {
     "name": "stdout",
     "output_type": "stream",
     "text": [
      "tensor([-0.3061])\n"
     ]
    },
    {
     "data": {
      "text/plain": [
       "device(type='cpu')"
      ]
     },
     "execution_count": 20,
     "metadata": {},
     "output_type": "execute_result"
    }
   ],
   "source": [
    "x = torch.randn(1)\n",
    "print(x)\n",
    "\n",
    "if torch.cuda.is_available():\n",
    "    tensor = x.to(\"cuda\")\n",
    "\n",
    "x.device"
   ]
  },
  {
   "cell_type": "code",
   "execution_count": null,
   "id": "a72477ae",
   "metadata": {},
   "outputs": [
    {
     "name": "stdout",
     "output_type": "stream",
     "text": [
      "cpu\n"
     ]
    }
   ],
   "source": [
    "device = torch.device(\"cuda\" if torch.cuda.is_available() else \"cpu\")\n",
    "print(device)\n",
    "\n",
    "x = torch.ones(2, 3, device=device)"
   ]
  },
  {
   "cell_type": "markdown",
   "id": "11fbf805",
   "metadata": {},
   "source": [
    "## 1-4. 다차원 텐서 표현"
   ]
  },
  {
   "cell_type": "markdown",
   "id": "7a8533fd",
   "metadata": {},
   "source": [
    "### 0D Tensor(Scalar)\n",
    "- 하나의 숫자를 담고 있는 텐서\n",
    "- 축과 형상이 없음"
   ]
  },
  {
   "cell_type": "code",
   "execution_count": 22,
   "id": "1094ae43",
   "metadata": {},
   "outputs": [
    {
     "name": "stdout",
     "output_type": "stream",
     "text": [
      "0\n",
      "torch.Size([])\n",
      "tensor(0)\n"
     ]
    }
   ],
   "source": [
    "t0 = torch.tensor(0)\n",
    "print(t0.ndim)\n",
    "print(t0.shape)\n",
    "print(t0)"
   ]
  },
  {
   "cell_type": "markdown",
   "id": "ffea5f1f",
   "metadata": {},
   "source": [
    "### 1D Tensor(Vector)\n",
    "- 값들을 저장한 리스트와 유사한 텐서\n",
    "- 하나의 축이 존재"
   ]
  },
  {
   "cell_type": "code",
   "execution_count": 23,
   "id": "e27e4b38",
   "metadata": {},
   "outputs": [
    {
     "name": "stdout",
     "output_type": "stream",
     "text": [
      "1\n",
      "torch.Size([3])\n",
      "tensor([1, 2, 3])\n"
     ]
    }
   ],
   "source": [
    "t1 = torch.tensor([1,2,3])\n",
    "print(t1.ndim)\n",
    "print(t1.shape)\n",
    "print(t1)"
   ]
  },
  {
   "cell_type": "markdown",
   "id": "ffbf636f",
   "metadata": {},
   "source": [
    "### 2D Tensor(Matrix)\n",
    "- 행렬과 같은 모양으로 두 개의 축이 존재\n",
    "- 일반적인 수치, 통계 데이터 셋에 주로 사용"
   ]
  },
  {
   "cell_type": "code",
   "execution_count": 25,
   "id": "af2d4356",
   "metadata": {},
   "outputs": [
    {
     "name": "stdout",
     "output_type": "stream",
     "text": [
      "2\n",
      "torch.Size([3, 3])\n",
      "tensor([[1, 2, 3],\n",
      "        [1, 2, 3],\n",
      "        [1, 2, 3]])\n"
     ]
    }
   ],
   "source": [
    "t2 = torch.tensor([[1,2,3], \n",
    "                [1,2,3], \n",
    "                [1,2,3]])\n",
    "print(t2.ndim)\n",
    "print(t2.shape)\n",
    "print(t2)"
   ]
  },
  {
   "cell_type": "markdown",
   "id": "ea6a59dc",
   "metadata": {},
   "source": [
    "### 3D Tensor\n",
    "- 큐브와 같은 모양으로 세 개의 축이 존재\n",
    "- 데이터가 연속된 시퀀스 데이터나 시간축이 포함된 시계열 데이터에 해당\n",
    "- ex) 주식가격, 질병 발병 데이터"
   ]
  },
  {
   "cell_type": "code",
   "execution_count": 26,
   "id": "261cc9e1",
   "metadata": {},
   "outputs": [
    {
     "name": "stdout",
     "output_type": "stream",
     "text": [
      "3\n",
      "torch.Size([3, 3, 3])\n",
      "tensor([[[1, 2, 3],\n",
      "         [1, 2, 3],\n",
      "         [1, 2, 3]],\n",
      "\n",
      "        [[1, 2, 3],\n",
      "         [1, 2, 3],\n",
      "         [1, 2, 3]],\n",
      "\n",
      "        [[1, 2, 3],\n",
      "         [1, 2, 3],\n",
      "         [1, 2, 3]]])\n"
     ]
    }
   ],
   "source": [
    "t3 = torch.tensor([[[1,2,3], \n",
    "                [1,2,3], \n",
    "                [1,2,3]],\n",
    "                [[1,2,3], \n",
    "                [1,2,3], \n",
    "                [1,2,3]],\n",
    "                [[1,2,3], \n",
    "                [1,2,3], \n",
    "                [1,2,3]]])\n",
    "print(t3.ndim)\n",
    "print(t3.shape)\n",
    "print(t3)"
   ]
  },
  {
   "cell_type": "markdown",
   "id": "ef9dcf40",
   "metadata": {},
   "source": [
    "### 4D Tensor\n",
    "- 4개의 축\n",
    "- 컬러 이미지가 대표적인 사례\n",
    "- 주로 샘플, 높이, 너비, 컬러 채널을 가진 구조로 사용"
   ]
  },
  {
   "cell_type": "code",
   "execution_count": 27,
   "id": "be1bc116",
   "metadata": {},
   "outputs": [
    {
     "name": "stdout",
     "output_type": "stream",
     "text": [
      "4\n",
      "torch.Size([3, 3, 3, 3])\n",
      "tensor([[[[1, 2, 3],\n",
      "          [1, 2, 3],\n",
      "          [1, 2, 3]],\n",
      "\n",
      "         [[1, 2, 3],\n",
      "          [1, 2, 3],\n",
      "          [1, 2, 3]],\n",
      "\n",
      "         [[1, 2, 3],\n",
      "          [1, 2, 3],\n",
      "          [1, 2, 3]]],\n",
      "\n",
      "\n",
      "        [[[1, 2, 3],\n",
      "          [1, 2, 3],\n",
      "          [1, 2, 3]],\n",
      "\n",
      "         [[1, 2, 3],\n",
      "          [1, 2, 3],\n",
      "          [1, 2, 3]],\n",
      "\n",
      "         [[1, 2, 3],\n",
      "          [1, 2, 3],\n",
      "          [1, 2, 3]]],\n",
      "\n",
      "\n",
      "        [[[1, 2, 3],\n",
      "          [1, 2, 3],\n",
      "          [1, 2, 3]],\n",
      "\n",
      "         [[1, 2, 3],\n",
      "          [1, 2, 3],\n",
      "          [1, 2, 3]],\n",
      "\n",
      "         [[1, 2, 3],\n",
      "          [1, 2, 3],\n",
      "          [1, 2, 3]]]])\n"
     ]
    }
   ],
   "source": [
    "t4 = torch.tensor([[[[1,2,3], \n",
    "                [1,2,3], \n",
    "                [1,2,3]],\n",
    "                [[1,2,3], \n",
    "                [1,2,3], \n",
    "                [1,2,3]],\n",
    "                [[1,2,3], \n",
    "                [1,2,3], \n",
    "                [1,2,3]]],\n",
    "                [[[1,2,3], \n",
    "                [1,2,3], \n",
    "                [1,2,3]],\n",
    "                [[1,2,3], \n",
    "                [1,2,3], \n",
    "                [1,2,3]],\n",
    "                [[1,2,3], \n",
    "                [1,2,3], \n",
    "                [1,2,3]]],\n",
    "                [[[1,2,3], \n",
    "                [1,2,3], \n",
    "                [1,2,3]],\n",
    "                [[1,2,3], \n",
    "                [1,2,3], \n",
    "                [1,2,3]],\n",
    "                [[1,2,3], \n",
    "                [1,2,3], \n",
    "                [1,2,3]]]])\n",
    "print(t4.ndim)\n",
    "print(t4.shape)\n",
    "print(t4)"
   ]
  },
  {
   "cell_type": "markdown",
   "id": "534b1850",
   "metadata": {},
   "source": [
    "### 5D Tensor\n",
    "- 5개의 축\n",
    "- 비디오 데이터가 대표적 사례\n",
    "- 주로 샘플, 프레임, 높이, 너비, 컬러 채널을 가진 구조로 사용"
   ]
  },
  {
   "cell_type": "code",
   "execution_count": 29,
   "id": "36ce442c",
   "metadata": {},
   "outputs": [
    {
     "name": "stdout",
     "output_type": "stream",
     "text": [
      "5\n",
      "torch.Size([3, 1, 3, 3, 3])\n",
      "tensor([[[[[1, 2, 3],\n",
      "           [1, 2, 3],\n",
      "           [1, 2, 3]],\n",
      "\n",
      "          [[1, 2, 3],\n",
      "           [1, 2, 3],\n",
      "           [1, 2, 3]],\n",
      "\n",
      "          [[1, 2, 3],\n",
      "           [1, 2, 3],\n",
      "           [1, 2, 3]]]],\n",
      "\n",
      "\n",
      "\n",
      "        [[[[1, 2, 3],\n",
      "           [1, 2, 3],\n",
      "           [1, 2, 3]],\n",
      "\n",
      "          [[1, 2, 3],\n",
      "           [1, 2, 3],\n",
      "           [1, 2, 3]],\n",
      "\n",
      "          [[1, 2, 3],\n",
      "           [1, 2, 3],\n",
      "           [1, 2, 3]]]],\n",
      "\n",
      "\n",
      "\n",
      "        [[[[1, 2, 3],\n",
      "           [1, 2, 3],\n",
      "           [1, 2, 3]],\n",
      "\n",
      "          [[1, 2, 3],\n",
      "           [1, 2, 3],\n",
      "           [1, 2, 3]],\n",
      "\n",
      "          [[1, 2, 3],\n",
      "           [1, 2, 3],\n",
      "           [1, 2, 3]]]]])\n"
     ]
    }
   ],
   "source": [
    "t5 = torch.tensor([[[[[1,2,3], \n",
    "                [1,2,3], \n",
    "                [1,2,3]],\n",
    "                [[1,2,3], \n",
    "                [1,2,3], \n",
    "                [1,2,3]],\n",
    "                [[1,2,3], \n",
    "                [1,2,3], \n",
    "                [1,2,3]]]],\n",
    "                [[[[1,2,3], \n",
    "                [1,2,3], \n",
    "                [1,2,3]],\n",
    "                [[1,2,3], \n",
    "                [1,2,3], \n",
    "                [1,2,3]],\n",
    "                [[1,2,3], \n",
    "                [1,2,3], \n",
    "                [1,2,3]]]],\n",
    "                [[[[1,2,3], \n",
    "                [1,2,3], \n",
    "                [1,2,3]],\n",
    "                [[1,2,3], \n",
    "                [1,2,3], \n",
    "                [1,2,3]],\n",
    "                [[1,2,3], \n",
    "                [1,2,3], \n",
    "                [1,2,3]]]]])\n",
    "print(t5.ndim)\n",
    "print(t5.shape)\n",
    "print(t5)"
   ]
  }
 ],
 "metadata": {
  "kernelspec": {
   "display_name": "torch_machine_study",
   "language": "python",
   "name": "python3"
  },
  "language_info": {
   "codemirror_mode": {
    "name": "ipython",
    "version": 3
   },
   "file_extension": ".py",
   "mimetype": "text/x-python",
   "name": "python",
   "nbconvert_exporter": "python",
   "pygments_lexer": "ipython3",
   "version": "3.13.7"
  }
 },
 "nbformat": 4,
 "nbformat_minor": 5
}
