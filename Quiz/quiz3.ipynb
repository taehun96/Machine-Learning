{
 "cells": [
  {
   "cell_type": "code",
   "execution_count": 1,
   "metadata": {},
   "outputs": [
    {
     "name": "stdout",
     "output_type": "stream",
     "text": [
      "setting complete.\n"
     ]
    }
   ],
   "source": [
    "import torch\n",
    "print(\"setting complete.\")"
   ]
  },
  {
   "cell_type": "markdown",
   "metadata": {},
   "source": [
    "### 문제1 : 기본 인덱싱"
   ]
  },
  {
   "cell_type": "code",
   "execution_count": 2,
   "metadata": {},
   "outputs": [
    {
     "name": "stdout",
     "output_type": "stream",
     "text": [
      "tensor(2)\n",
      "tensor(7)\n"
     ]
    }
   ],
   "source": [
    "t = torch.tensor([[1, 2, 3], [4, 5, 6], [7, 8, 9]])\n",
    "# (1) 첫 번째 행의 두 번째 값을 출력하세요.\n",
    "print(t[0,1])\n",
    "# (2) 세 번째 행의 첫 번째 값을 출력하세요.\n",
    "print(t[2,0])"
   ]
  },
  {
   "cell_type": "markdown",
   "metadata": {},
   "source": [
    "### 문제2 : 기본 슬라이싱"
   ]
  },
  {
   "cell_type": "code",
   "execution_count": 3,
   "metadata": {},
   "outputs": [
    {
     "name": "stdout",
     "output_type": "stream",
     "text": [
      "tensor([[1, 2, 3],\n",
      "        [4, 5, 6]])\n",
      "tensor([1, 4, 7])\n"
     ]
    }
   ],
   "source": [
    "t = torch.tensor([[1, 2, 3], [4, 5, 6], [7, 8, 9]])\n",
    "# (1) 첫 번째와 두 번째 행의 모든 값을 추출하세요.\n",
    "print(t[0:2, :])\n",
    "# (2) 모든 행의 첫 번째 열을 추출하세요.\n",
    "print(t[:,0])"
   ]
  },
  {
   "cell_type": "markdown",
   "metadata": {},
   "source": [
    "### 문제 3: 음수 인덱싱"
   ]
  },
  {
   "cell_type": "code",
   "execution_count": 4,
   "metadata": {},
   "outputs": [
    {
     "name": "stdout",
     "output_type": "stream",
     "text": [
      "tensor([4, 5, 6])\n"
     ]
    }
   ],
   "source": [
    "t = torch.tensor([1, 2, 3, 4, 5, 6])\n",
    "# 끝에서 세 번째 값부터 끝까지 추출하세요.\n",
    "print(t[-3:])"
   ]
  },
  {
   "cell_type": "markdown",
   "metadata": {},
   "source": [
    "### 문제 4: 조건에 따른 필터링"
   ]
  },
  {
   "cell_type": "code",
   "execution_count": 5,
   "metadata": {},
   "outputs": [
    {
     "name": "stdout",
     "output_type": "stream",
     "text": [
      "tensor([1, 3, 5, 7, 9])\n",
      "tensor([ 3, -6,  9])\n"
     ]
    }
   ],
   "source": [
    "t = torch.tensor([[1, -2, 3], [-4, 5, -6], [7, -8, 9]])\n",
    "# (1) 양수만 추출하세요.\n",
    "print(t[t > 0])\n",
    "# (2) 3으로 나누어떨어지는 값만 추출하세요.\n",
    "print(t[t % 3 == 0])"
   ]
  },
  {
   "cell_type": "markdown",
   "metadata": {},
   "source": [
    "### 문제 5: 슬라이싱으로 값 변경\n"
   ]
  },
  {
   "cell_type": "code",
   "execution_count": 6,
   "metadata": {},
   "outputs": [
    {
     "name": "stdout",
     "output_type": "stream",
     "text": [
      "tensor([[1, 2, 3],\n",
      "        [0, 0, 0],\n",
      "        [7, 8, 9]])\n"
     ]
    }
   ],
   "source": [
    "t = torch.tensor([[1, 2, 3], [4, 5, 6], [7, 8, 9]])\n",
    "# 두 번째 행의 값을 모두 0으로 변경하세요.\n",
    "t[1,:] = 0\n",
    "print(t)"
   ]
  },
  {
   "cell_type": "markdown",
   "metadata": {},
   "source": [
    "### 문제 6: 고급 인덱싱"
   ]
  },
  {
   "cell_type": "code",
   "execution_count": null,
   "metadata": {},
   "outputs": [
    {
     "name": "stdout",
     "output_type": "stream",
     "text": [
      "tensor([2, 6, 7])\n",
      "tensor([[4, 6],\n",
      "        [7, 9]])\n"
     ]
    }
   ],
   "source": [
    "t = torch.tensor([[1, 2, 3], [4, 5, 6], [7, 8, 9]])\n",
    "# (1) (0, 1), (1, 2), (2, 0) 위치의 값을 추출하세요.\n",
    "print(t[[0,1,2],[1,2,0]])\n",
    "# (2) 두 번째 행과 세 번째 행의 첫 번째 열과 세 번째 열 값을 추출하세요.\n",
    "print(t[1:, [0,2]])\n"
   ]
  },
  {
   "cell_type": "markdown",
   "metadata": {},
   "source": [
    "### 문제 7: 특정 범위 슬라이싱"
   ]
  },
  {
   "cell_type": "code",
   "execution_count": 8,
   "metadata": {},
   "outputs": [
    {
     "name": "stdout",
     "output_type": "stream",
     "text": [
      "tensor([[ 6,  7],\n",
      "        [10, 11]])\n"
     ]
    }
   ],
   "source": [
    "t = torch.tensor([\n",
    "    [1, 2, 3, 4],\n",
    "    [5, 6, 7, 8],\n",
    "    [9, 10, 11, 12],\n",
    "    [13, 14, 15, 16]\n",
    "])\n",
    "# 두 번째와 세 번째 행의 두 번째와 세 번째 열을 추출하세요.\n",
    "print(t[1:3, 1:3])"
   ]
  }
 ],
 "metadata": {
  "kernelspec": {
   "display_name": "torch_machine_study",
   "language": "python",
   "name": "python3"
  },
  "language_info": {
   "codemirror_mode": {
    "name": "ipython",
    "version": 3
   },
   "file_extension": ".py",
   "mimetype": "text/x-python",
   "name": "python",
   "nbconvert_exporter": "python",
   "pygments_lexer": "ipython3",
   "version": "3.13.7"
  }
 },
 "nbformat": 4,
 "nbformat_minor": 2
}
