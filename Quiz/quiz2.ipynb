{
 "cells": [
  {
   "cell_type": "markdown",
   "metadata": {},
   "source": [
    "## PyTorch Quiz 2 : 연산"
   ]
  },
  {
   "cell_type": "code",
   "execution_count": 1,
   "metadata": {},
   "outputs": [],
   "source": [
    "import torch"
   ]
  },
  {
   "cell_type": "markdown",
   "metadata": {},
   "source": [
    "### 1. 덧셈과 뺄셈 연습\n",
    "1. [2, 4, 6]으로 초기화된 1D Tensor를 생성하세요.\n",
    "2. 각 요소에 5를 더한 Tensor를 출력하세요.\n",
    "3. 각 요소에서 3을 뺀 Tensor를 출력하세요.\n"
   ]
  },
  {
   "cell_type": "code",
   "execution_count": 9,
   "metadata": {},
   "outputs": [
    {
     "name": "stdout",
     "output_type": "stream",
     "text": [
      "tensor([ 7,  9, 11])\n",
      "tensor([4, 6, 8])\n"
     ]
    }
   ],
   "source": [
    "x = torch.tensor([2, 4, 6])\n",
    "# print(x)\n",
    "# print(x+5)\n",
    "# print(x-3)\n",
    "x.add_(5)\n",
    "print(x)\n",
    "x.sub_(3)\n",
    "print(x)"
   ]
  },
  {
   "cell_type": "markdown",
   "metadata": {},
   "source": [
    "### 2. Tensor 간의 연산\n",
    "1. 3x3 크기의 Tensor 2개를 생성하세요.\n",
    "2. 두 Tensor를 각각 더하고(+), 빼고(-), 곱하고(*), 나누세요(/)."
   ]
  },
  {
   "cell_type": "code",
   "execution_count": 10,
   "metadata": {},
   "outputs": [
    {
     "name": "stdout",
     "output_type": "stream",
     "text": [
      "tensor([[1.1509, 1.0044, 1.4016],\n",
      "        [0.1264, 0.9535, 0.6159],\n",
      "        [1.1905, 1.3670, 1.4533]])\n",
      "tensor([[-0.2703,  0.3127,  0.0521],\n",
      "        [-0.1036,  0.5995, -0.2998],\n",
      "        [ 0.3188,  0.4591, -0.4299]])\n",
      "tensor([[0.3128, 0.2278, 0.4905],\n",
      "        [0.0013, 0.1374, 0.0724],\n",
      "        [0.3289, 0.4145, 0.4818]])\n",
      "tensor([[0.6196, 1.9039, 1.0772],\n",
      "        [0.0994, 4.3870, 0.3452],\n",
      "        [1.7314, 2.0113, 0.5434]])\n"
     ]
    }
   ],
   "source": [
    "# x = torch.tensor([[1,2,3],[4,5,6],[7,8,9]])\n",
    "# y = torch.tensor([[4,5,6],[-1,-2,-3],[9,-4,-5]])\n",
    "x = torch.rand(3,3)\n",
    "y = torch.rand(3,3)\n",
    "add = torch.add(x,y)\n",
    "print(add)\n",
    "sub = torch.sub(x,y)\n",
    "print(sub)\n",
    "mul = torch.mul(x,y)\n",
    "print(mul)\n",
    "div = torch.div(x,y)\n",
    "print(div)"
   ]
  },
  {
   "cell_type": "markdown",
   "metadata": {},
   "source": [
    "### 3. 행렬의 내적 연산\n",
    "1. 2×3 크기의 Tensor A를 다음 값으로 생성하세요:\n",
    "  - `[[1,2,3], [4,5,6]]`\n",
    "2. 3×2 크기의 Tensor B를 다음 값으로 생성하세요:\n",
    "  - `[[7,8],[9,10],[11,12]]`\n",
    "3. 두 Tensor의 행렬 내적(행렬 곱) A×B를 계산하여 출력하세요."
   ]
  },
  {
   "cell_type": "code",
   "execution_count": 4,
   "metadata": {},
   "outputs": [
    {
     "name": "stdout",
     "output_type": "stream",
     "text": [
      "tensor([[ 58,  64],\n",
      "        [139, 154]])\n"
     ]
    }
   ],
   "source": [
    "A = torch.tensor([[1,2,3],[4,5,6]])\n",
    "B = torch.tensor([[7,8],[9,10],[11,12]])\n",
    "print(torch.matmul(A,B))"
   ]
  },
  {
   "cell_type": "markdown",
   "metadata": {},
   "source": [
    "### 4. 행렬 연산과 값 제한\n",
    "1. 이전 문제에서 계산된 행렬 R(결과 행렬 A×B)를 사용하세요\n",
    "2. 행렬 R의 각 요소에 10을 더하세요.\n",
    "3. R의 각 요소를 100보다 큰 값은 100으로, 나머지는 그대로 유지하도록 제한하세요."
   ]
  },
  {
   "cell_type": "code",
   "execution_count": null,
   "metadata": {},
   "outputs": [
    {
     "name": "stdout",
     "output_type": "stream",
     "text": [
      "tensor([[ 58,  64],\n",
      "        [139, 154]])\n",
      "tensor([[ 68,  74],\n",
      "        [149, 164]])\n",
      "tensor([[ 58,  64],\n",
      "        [100, 100]])\n"
     ]
    }
   ],
   "source": [
    "R = torch.tensor([[58,64],[139,154]])\n",
    "print(R + 10)\n",
    "print(torch.clamp(R,max=100))"
   ]
  },
  {
   "cell_type": "markdown",
   "metadata": {},
   "source": [
    "### 5. 행렬의 열별 합계 계산\n",
    "1. 5×5 크기의 Tensor M을 다음 값으로 생성하세요\n",
    "    ```\n",
    "    [[1, 2, 3, 4, 5],\n",
    "     [6, 7, 8, 9, 10],\n",
    "     [11, 12, 13, 14, 15],\n",
    "     [16, 17, 18, 19, 20],\n",
    "     [21, 22, 23, 24, 25]]\n",
    "    ```\n",
    "\n",
    "2. 행렬 M의 각 열의 합계를 계산하세요."
   ]
  },
  {
   "cell_type": "code",
   "execution_count": 8,
   "metadata": {},
   "outputs": [
    {
     "name": "stdout",
     "output_type": "stream",
     "text": [
      "tensor([55, 60, 65, 70, 75])\n"
     ]
    }
   ],
   "source": [
    "M = torch.tensor([[1, 2, 3, 4, 5],\n",
    "                    [6, 7, 8, 9, 10],\n",
    "                    [11, 12, 13, 14, 15],\n",
    "                    [16, 17, 18, 19, 20],\n",
    "                    [21, 22, 23, 24, 25]])\n",
    "print(torch.sum(M, dim=0))"
   ]
  }
 ],
 "metadata": {
  "kernelspec": {
   "display_name": "torch_machine_study",
   "language": "python",
   "name": "python3"
  },
  "language_info": {
   "codemirror_mode": {
    "name": "ipython",
    "version": 3
   },
   "file_extension": ".py",
   "mimetype": "text/x-python",
   "name": "python",
   "nbconvert_exporter": "python",
   "pygments_lexer": "ipython3",
   "version": "3.13.7"
  }
 },
 "nbformat": 4,
 "nbformat_minor": 2
}
