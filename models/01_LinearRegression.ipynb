{
 "cells": [
  {
   "cell_type": "markdown",
   "id": "fcfb540e",
   "metadata": {},
   "source": [
    "# 01. 선형회귀모델"
   ]
  },
  {
   "cell_type": "markdown",
   "id": "c7bde4dc",
   "metadata": {},
   "source": [
    "## 1-1. 단일선형회귀"
   ]
  },
  {
   "cell_type": "code",
   "execution_count": 1,
   "id": "26e28bed",
   "metadata": {},
   "outputs": [],
   "source": [
    "import torch\n",
    "import matplotlib.pyplot as plt"
   ]
  }
 ],
 "metadata": {
  "kernelspec": {
   "display_name": "torch_machine_study",
   "language": "python",
   "name": "python3"
  },
  "language_info": {
   "codemirror_mode": {
    "name": "ipython",
    "version": 3
   },
   "file_extension": ".py",
   "mimetype": "text/x-python",
   "name": "python",
   "nbconvert_exporter": "python",
   "pygments_lexer": "ipython3",
   "version": "3.13.7"
  }
 },
 "nbformat": 4,
 "nbformat_minor": 5
}
